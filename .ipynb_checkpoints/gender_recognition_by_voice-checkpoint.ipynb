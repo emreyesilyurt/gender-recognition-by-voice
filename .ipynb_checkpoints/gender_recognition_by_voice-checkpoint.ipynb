{
 "cells": [
  {
   "cell_type": "code",
   "execution_count": 1,
   "metadata": {},
   "outputs": [],
   "source": [
    "import pandas as pd\n",
    "import numpy as np\n",
    "import matplotlib.pyplot as plt\n",
    "import seaborn as sns\n",
    "from sklearn.metrics import confusion_matrix\n",
    "from sklearn.model_selection import cross_val_score\n",
    "from sklearn import metrics\n",
    "import sys\n",
    "if not sys.warnoptions:\n",
    "    import warnings\n",
    "    warnings.simplefilter(\"ignore\")\n",
    "%matplotlib inline"
   ]
  },
  {
   "cell_type": "code",
   "execution_count": 2,
   "metadata": {},
   "outputs": [],
   "source": [
    "data = pd.read_csv('voice.csv')\n"
   ]
  },
  {
   "cell_type": "code",
   "execution_count": 3,
   "metadata": {},
   "outputs": [
    {
     "data": {
      "text/html": [
       "<div>\n",
       "<style scoped>\n",
       "    .dataframe tbody tr th:only-of-type {\n",
       "        vertical-align: middle;\n",
       "    }\n",
       "\n",
       "    .dataframe tbody tr th {\n",
       "        vertical-align: top;\n",
       "    }\n",
       "\n",
       "    .dataframe thead th {\n",
       "        text-align: right;\n",
       "    }\n",
       "</style>\n",
       "<table border=\"1\" class=\"dataframe\">\n",
       "  <thead>\n",
       "    <tr style=\"text-align: right;\">\n",
       "      <th></th>\n",
       "      <th>meanfreq</th>\n",
       "      <th>sd</th>\n",
       "      <th>median</th>\n",
       "      <th>Q25</th>\n",
       "      <th>Q75</th>\n",
       "      <th>IQR</th>\n",
       "      <th>skew</th>\n",
       "      <th>kurt</th>\n",
       "      <th>sp.ent</th>\n",
       "      <th>sfm</th>\n",
       "      <th>...</th>\n",
       "      <th>centroid</th>\n",
       "      <th>meanfun</th>\n",
       "      <th>minfun</th>\n",
       "      <th>maxfun</th>\n",
       "      <th>meandom</th>\n",
       "      <th>mindom</th>\n",
       "      <th>maxdom</th>\n",
       "      <th>dfrange</th>\n",
       "      <th>modindx</th>\n",
       "      <th>label</th>\n",
       "    </tr>\n",
       "  </thead>\n",
       "  <tbody>\n",
       "    <tr>\n",
       "      <th>0</th>\n",
       "      <td>0.059781</td>\n",
       "      <td>0.064241</td>\n",
       "      <td>0.032027</td>\n",
       "      <td>0.015071</td>\n",
       "      <td>0.090193</td>\n",
       "      <td>0.075122</td>\n",
       "      <td>12.863462</td>\n",
       "      <td>274.402906</td>\n",
       "      <td>0.893369</td>\n",
       "      <td>0.491918</td>\n",
       "      <td>...</td>\n",
       "      <td>0.059781</td>\n",
       "      <td>0.084279</td>\n",
       "      <td>0.015702</td>\n",
       "      <td>0.275862</td>\n",
       "      <td>0.007812</td>\n",
       "      <td>0.007812</td>\n",
       "      <td>0.007812</td>\n",
       "      <td>0.000000</td>\n",
       "      <td>0.000000</td>\n",
       "      <td>male</td>\n",
       "    </tr>\n",
       "    <tr>\n",
       "      <th>1</th>\n",
       "      <td>0.066009</td>\n",
       "      <td>0.067310</td>\n",
       "      <td>0.040229</td>\n",
       "      <td>0.019414</td>\n",
       "      <td>0.092666</td>\n",
       "      <td>0.073252</td>\n",
       "      <td>22.423285</td>\n",
       "      <td>634.613855</td>\n",
       "      <td>0.892193</td>\n",
       "      <td>0.513724</td>\n",
       "      <td>...</td>\n",
       "      <td>0.066009</td>\n",
       "      <td>0.107937</td>\n",
       "      <td>0.015826</td>\n",
       "      <td>0.250000</td>\n",
       "      <td>0.009014</td>\n",
       "      <td>0.007812</td>\n",
       "      <td>0.054688</td>\n",
       "      <td>0.046875</td>\n",
       "      <td>0.052632</td>\n",
       "      <td>male</td>\n",
       "    </tr>\n",
       "    <tr>\n",
       "      <th>2</th>\n",
       "      <td>0.077316</td>\n",
       "      <td>0.083829</td>\n",
       "      <td>0.036718</td>\n",
       "      <td>0.008701</td>\n",
       "      <td>0.131908</td>\n",
       "      <td>0.123207</td>\n",
       "      <td>30.757155</td>\n",
       "      <td>1024.927705</td>\n",
       "      <td>0.846389</td>\n",
       "      <td>0.478905</td>\n",
       "      <td>...</td>\n",
       "      <td>0.077316</td>\n",
       "      <td>0.098706</td>\n",
       "      <td>0.015656</td>\n",
       "      <td>0.271186</td>\n",
       "      <td>0.007990</td>\n",
       "      <td>0.007812</td>\n",
       "      <td>0.015625</td>\n",
       "      <td>0.007812</td>\n",
       "      <td>0.046512</td>\n",
       "      <td>male</td>\n",
       "    </tr>\n",
       "    <tr>\n",
       "      <th>3</th>\n",
       "      <td>0.151228</td>\n",
       "      <td>0.072111</td>\n",
       "      <td>0.158011</td>\n",
       "      <td>0.096582</td>\n",
       "      <td>0.207955</td>\n",
       "      <td>0.111374</td>\n",
       "      <td>1.232831</td>\n",
       "      <td>4.177296</td>\n",
       "      <td>0.963322</td>\n",
       "      <td>0.727232</td>\n",
       "      <td>...</td>\n",
       "      <td>0.151228</td>\n",
       "      <td>0.088965</td>\n",
       "      <td>0.017798</td>\n",
       "      <td>0.250000</td>\n",
       "      <td>0.201497</td>\n",
       "      <td>0.007812</td>\n",
       "      <td>0.562500</td>\n",
       "      <td>0.554688</td>\n",
       "      <td>0.247119</td>\n",
       "      <td>male</td>\n",
       "    </tr>\n",
       "    <tr>\n",
       "      <th>4</th>\n",
       "      <td>0.135120</td>\n",
       "      <td>0.079146</td>\n",
       "      <td>0.124656</td>\n",
       "      <td>0.078720</td>\n",
       "      <td>0.206045</td>\n",
       "      <td>0.127325</td>\n",
       "      <td>1.101174</td>\n",
       "      <td>4.333713</td>\n",
       "      <td>0.971955</td>\n",
       "      <td>0.783568</td>\n",
       "      <td>...</td>\n",
       "      <td>0.135120</td>\n",
       "      <td>0.106398</td>\n",
       "      <td>0.016931</td>\n",
       "      <td>0.266667</td>\n",
       "      <td>0.712812</td>\n",
       "      <td>0.007812</td>\n",
       "      <td>5.484375</td>\n",
       "      <td>5.476562</td>\n",
       "      <td>0.208274</td>\n",
       "      <td>male</td>\n",
       "    </tr>\n",
       "  </tbody>\n",
       "</table>\n",
       "<p>5 rows × 21 columns</p>\n",
       "</div>"
      ],
      "text/plain": [
       "   meanfreq        sd    median       Q25       Q75       IQR       skew  \\\n",
       "0  0.059781  0.064241  0.032027  0.015071  0.090193  0.075122  12.863462   \n",
       "1  0.066009  0.067310  0.040229  0.019414  0.092666  0.073252  22.423285   \n",
       "2  0.077316  0.083829  0.036718  0.008701  0.131908  0.123207  30.757155   \n",
       "3  0.151228  0.072111  0.158011  0.096582  0.207955  0.111374   1.232831   \n",
       "4  0.135120  0.079146  0.124656  0.078720  0.206045  0.127325   1.101174   \n",
       "\n",
       "          kurt    sp.ent       sfm  ...  centroid   meanfun    minfun  \\\n",
       "0   274.402906  0.893369  0.491918  ...  0.059781  0.084279  0.015702   \n",
       "1   634.613855  0.892193  0.513724  ...  0.066009  0.107937  0.015826   \n",
       "2  1024.927705  0.846389  0.478905  ...  0.077316  0.098706  0.015656   \n",
       "3     4.177296  0.963322  0.727232  ...  0.151228  0.088965  0.017798   \n",
       "4     4.333713  0.971955  0.783568  ...  0.135120  0.106398  0.016931   \n",
       "\n",
       "     maxfun   meandom    mindom    maxdom   dfrange   modindx  label  \n",
       "0  0.275862  0.007812  0.007812  0.007812  0.000000  0.000000   male  \n",
       "1  0.250000  0.009014  0.007812  0.054688  0.046875  0.052632   male  \n",
       "2  0.271186  0.007990  0.007812  0.015625  0.007812  0.046512   male  \n",
       "3  0.250000  0.201497  0.007812  0.562500  0.554688  0.247119   male  \n",
       "4  0.266667  0.712812  0.007812  5.484375  5.476562  0.208274   male  \n",
       "\n",
       "[5 rows x 21 columns]"
      ]
     },
     "execution_count": 3,
     "metadata": {},
     "output_type": "execute_result"
    }
   ],
   "source": [
    "data.head()"
   ]
  },
  {
   "cell_type": "code",
   "execution_count": 4,
   "metadata": {},
   "outputs": [
    {
     "data": {
      "text/plain": [
       "meanfreq    0\n",
       "sd          0\n",
       "median      0\n",
       "Q25         0\n",
       "Q75         0\n",
       "IQR         0\n",
       "skew        0\n",
       "kurt        0\n",
       "sp.ent      0\n",
       "sfm         0\n",
       "mode        0\n",
       "centroid    0\n",
       "meanfun     0\n",
       "minfun      0\n",
       "maxfun      0\n",
       "meandom     0\n",
       "mindom      0\n",
       "maxdom      0\n",
       "dfrange     0\n",
       "modindx     0\n",
       "label       0\n",
       "dtype: int64"
      ]
     },
     "execution_count": 4,
     "metadata": {},
     "output_type": "execute_result"
    }
   ],
   "source": [
    "data.isnull().sum()\n"
   ]
  },
  {
   "cell_type": "code",
   "execution_count": 5,
   "metadata": {},
   "outputs": [
    {
     "data": {
      "text/plain": [
       "meanfreq    float64\n",
       "sd          float64\n",
       "median      float64\n",
       "Q25         float64\n",
       "Q75         float64\n",
       "IQR         float64\n",
       "skew        float64\n",
       "kurt        float64\n",
       "sp.ent      float64\n",
       "sfm         float64\n",
       "mode        float64\n",
       "centroid    float64\n",
       "meanfun     float64\n",
       "minfun      float64\n",
       "maxfun      float64\n",
       "meandom     float64\n",
       "mindom      float64\n",
       "maxdom      float64\n",
       "dfrange     float64\n",
       "modindx     float64\n",
       "label        object\n",
       "dtype: object"
      ]
     },
     "execution_count": 5,
     "metadata": {},
     "output_type": "execute_result"
    }
   ],
   "source": [
    "data.dtypes\n"
   ]
  },
  {
   "cell_type": "code",
   "execution_count": 6,
   "metadata": {},
   "outputs": [
    {
     "data": {
      "text/plain": [
       "21"
      ]
     },
     "execution_count": 6,
     "metadata": {},
     "output_type": "execute_result"
    }
   ],
   "source": [
    "len(data.columns)\n"
   ]
  },
  {
   "cell_type": "code",
   "execution_count": 7,
   "metadata": {},
   "outputs": [
    {
     "data": {
      "image/png": "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\n",
      "text/plain": [
       "<Figure size 430.5x360 with 1 Axes>"
      ]
     },
     "metadata": {
      "needs_background": "light"
     },
     "output_type": "display_data"
    }
   ],
   "source": [
    "sns.FacetGrid(data, hue=\"label\", size=5)\\\n",
    "   .map(plt.scatter, \"meanfun\", \"meanfreq\")\\\n",
    "   .add_legend()\n",
    "plt.show()"
   ]
  },
  {
   "cell_type": "code",
   "execution_count": 8,
   "metadata": {},
   "outputs": [
    {
     "data": {
      "image/png": "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\n",
      "text/plain": [
       "<Figure size 432x288 with 1 Axes>"
      ]
     },
     "metadata": {
      "needs_background": "light"
     },
     "output_type": "display_data"
    }
   ],
   "source": [
    "sns.boxplot(x=\"label\",y=\"meanfun\",data=data)\n",
    "plt.show()"
   ]
  },
  {
   "cell_type": "code",
   "execution_count": 9,
   "metadata": {},
   "outputs": [
    {
     "data": {
      "image/png": "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\n",
      "text/plain": [
       "<Figure size 432x288 with 1 Axes>"
      ]
     },
     "metadata": {
      "needs_background": "light"
     },
     "output_type": "display_data"
    }
   ],
   "source": [
    "from pandas.plotting import radviz\n",
    "radviz(data, \"label\", color = ['blue', 'green'])\n",
    "plt.show()"
   ]
  },
  {
   "cell_type": "code",
   "execution_count": 10,
   "metadata": {},
   "outputs": [
    {
     "name": "stdout",
     "output_type": "stream",
     "text": [
      "Rows     :  3168\n",
      "Columns  :  21\n",
      "\n",
      "Features : \n",
      " ['meanfreq', 'sd', 'median', 'Q25', 'Q75', 'IQR', 'skew', 'kurt', 'sp.ent', 'sfm', 'mode', 'centroid', 'meanfun', 'minfun', 'maxfun', 'meandom', 'mindom', 'maxdom', 'dfrange', 'modindx', 'label']\n",
      "\n",
      "Missing values :   0\n",
      "\n",
      "Unique values :  \n",
      " meanfreq    3166\n",
      "sd          3166\n",
      "median      3077\n",
      "Q25         3103\n",
      "Q75         3034\n",
      "IQR         3073\n",
      "skew        3166\n",
      "kurt        3166\n",
      "sp.ent      3166\n",
      "sfm         3166\n",
      "mode        2825\n",
      "centroid    3166\n",
      "meanfun     3166\n",
      "minfun       913\n",
      "maxfun       123\n",
      "meandom     2999\n",
      "mindom        77\n",
      "maxdom      1054\n",
      "dfrange     1091\n",
      "modindx     3079\n",
      "label          2\n",
      "dtype: int64\n",
      "['male' 'female']\n",
      "[0.08427911 0.10793655 0.09870626 ... 0.20991768 0.172375   0.18560693]\n",
      "[0.07512195 0.07325232 0.12320696 ... 0.19093638 0.1764347  0.18075587]\n"
     ]
    }
   ],
   "source": [
    "print (\"Rows     : \" ,data.shape[0])\n",
    "print (\"Columns  : \" ,data.shape[1])\n",
    "print (\"\\nFeatures : \\n\" ,data.columns.tolist())\n",
    "print (\"\\nMissing values :  \", data.isnull().sum().values.sum())\n",
    "print (\"\\nUnique values :  \\n\",data.nunique())\n",
    "\n",
    "\n",
    "print(data['label'].unique())\n",
    "print(data['meanfun'].unique())\n",
    "print(data['IQR'].unique())"
   ]
  },
  {
   "cell_type": "code",
   "execution_count": 11,
   "metadata": {},
   "outputs": [],
   "source": [
    "X = data.drop(['label'], axis = 1).values\n",
    "Y = data.iloc[:,-1:].values"
   ]
  },
  {
   "cell_type": "code",
   "execution_count": 12,
   "metadata": {},
   "outputs": [],
   "source": [
    "\n",
    "from sklearn.model_selection import train_test_split, learning_curve\n",
    "x_train, x_test,y_train,y_test = train_test_split(X, Y,test_size=0.2, random_state=0)\n"
   ]
  },
  {
   "cell_type": "code",
   "execution_count": 13,
   "metadata": {},
   "outputs": [],
   "source": [
    "from sklearn.preprocessing import StandardScaler\n",
    "sc = StandardScaler()\n",
    "X_train = sc.fit_transform(x_train)\n",
    "X_test = sc.fit_transform(x_test)"
   ]
  },
  {
   "cell_type": "code",
   "execution_count": 14,
   "metadata": {},
   "outputs": [
    {
     "data": {
      "text/plain": [
       "'\\nfrom sklearn.decomposition import PCA\\n\\npca = PCA(n_components = 9)\\nX_train_pca = pca.fit_transform(X_train)\\nX_test_pca = pca.transform(X_test)\\n'"
      ]
     },
     "execution_count": 14,
     "metadata": {},
     "output_type": "execute_result"
    }
   ],
   "source": [
    "\"\"\"\n",
    "from sklearn.decomposition import PCA\n",
    "\n",
    "pca = PCA(n_components = 9)\n",
    "X_train_pca = pca.fit_transform(X_train)\n",
    "X_test_pca = pca.transform(X_test)\n",
    "\"\"\""
   ]
  },
  {
   "cell_type": "code",
   "execution_count": 15,
   "metadata": {},
   "outputs": [],
   "source": [
    "\n",
    "from sklearn.discriminant_analysis import LinearDiscriminantAnalysis\n",
    "\n",
    "lda = LinearDiscriminantAnalysis(n_components = 2)\n",
    "X_train_lda = lda.fit_transform(X_train, y_train)\n",
    "X_test_lda = lda.transform(X_test)"
   ]
  },
  {
   "cell_type": "code",
   "execution_count": 16,
   "metadata": {},
   "outputs": [
    {
     "name": "stdout",
     "output_type": "stream",
     "text": [
      "Accuracy:  0.9684542586750788 \n",
      "\n",
      "SVC Confusion Matrix\n",
      " [[291  10]\n",
      " [ 10 323]]\n"
     ]
    },
    {
     "data": {
      "text/plain": [
       "<matplotlib.axes._subplots.AxesSubplot at 0x7f5022a14750>"
      ]
     },
     "execution_count": 16,
     "metadata": {},
     "output_type": "execute_result"
    },
    {
     "data": {
      "image/png": "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\n",
      "text/plain": [
       "<Figure size 432x288 with 2 Axes>"
      ]
     },
     "metadata": {
      "needs_background": "light"
     },
     "output_type": "display_data"
    }
   ],
   "source": [
    "from sklearn.svm import SVC\n",
    "model = SVC(kernel = 'linear') \n",
    "model.fit(X_train_lda, y_train)\n",
    "y_pred = model.predict(X_test_lda)\n",
    "cm = confusion_matrix(y_test, y_pred)\n"
    "print('Accuracy: ', metrics.accuracy_score(y_test, y_pred), '\\n')\n",
    "print(\"SVC Confusion Matrix\\n\", cm)\n",
    "sns.heatmap(cm/np.sum(cm), annot=True, fmt='.2%', cmap='Blues')"
   ]
  },
  {
   "cell_type": "code",
   "execution_count": 17,
   "metadata": {},
   "outputs": [
    {
     "name": "stdout",
     "output_type": "stream",
     "text": [
      "SVC Accuracy:  0.9735595895816891\n",
      "SVC Std:  0.0011838989739542671\n",
     ]
    }
   ],
   "source": [
    "crossVal= cross_val_score(estimator = model, X = X_train, y = y_train, cv = 2)\n",
    "print('SVC Accuracy: ', crossVal.mean())\n",
    "print('SVC Std: ', crossVal.std())\n"
   ]
  }
 ],
 "metadata": {
  "kernelspec": {
   "display_name": "Python 3",
   "language": "python",
   "name": "python3"
  },
  "language_info": {
   "codemirror_mode": {
    "name": "ipython",
    "version": 3
   },
   "file_extension": ".py",
   "mimetype": "text/x-python",
   "name": "python",
   "nbconvert_exporter": "python",
   "pygments_lexer": "ipython3",
   "version": "3.7.6"
  }
 },
 "nbformat": 4,
 "nbformat_minor": 4
}
